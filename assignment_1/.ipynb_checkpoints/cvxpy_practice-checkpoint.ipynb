{
 "cells": [
  {
   "cell_type": "code",
   "execution_count": 3,
   "metadata": {},
   "outputs": [],
   "source": [
    "from cvxpy import *\n",
    "#from __future__ import division\n",
    "\n",
    "import cvxopt\n",
    "import numpy as np\n",
    "from pylab import *\n",
    "import math"
   ]
  },
  {
   "cell_type": "code",
   "execution_count": null,
   "metadata": {},
   "outputs": [],
   "source": [
    "radius = Variable(1)\n",
    "center = Variable(2)\n",
    "\n",
    "# constraints\n",
    "a1 = cvxopt.matrix([2,1], (2,1))\n",
    "a2 = cvxopt.matrix([2,-1], (2,1))\n",
    "a3 = cvxopt.matrix([-1,2], (2,1))\n",
    "a4 = cvxopt.matrix([-1,-2], (2,1))\n",
    "\n",
    "b = cvxopt.matrix(1, (4,1))\n",
    "\n",
    "\n",
    "constraints = [ a1.T*center + np.linalg.norm(a1, 2)*radius <= b[0],\n",
    "                a2.T*center + np.linalg.norm(a2, 2)*radius <= b[1],\n",
    "                a3.T*center + np.linalg.norm(a3, 2)*radius <= b[2],\n",
    "                a4.T*center + np.linalg.norm(a4, 2)*radius <= b[3] ]\n",
    "\n",
    "\n",
    "# objective\n",
    "objective = Maximize(radius)\n",
    "\n",
    "p = Problem(objective, constraints)\n",
    "# The optimal objective is returned by p.solve().\n",
    "result = p.solve()\n",
    "# The optimal value\n",
    "print(radius.value)\n",
    "print(center.value)\n",
    "# Convert to 1D array.\n",
    "center_val = np.asarray(center.value[:,0])\n",
    "\n",
    "\n",
    "# Now let's plot it\n",
    "x = np.linspace(-2, 2, 256,endpoint=True)\n",
    "theta = np.linspace(0,2*np.pi,100)\n",
    "\n",
    "# plot the constraints\n",
    "plot( x, -x*a1[0]/a1[1] + b[0]/a1[1])\n",
    "plot( x, -x*a2[0]/a2[1] + b[0]/a2[1])\n",
    "plot( x, -x*a3[0]/a3[1] + b[0]/a3[1])\n",
    "plot( x, -x*a4[0]/a4[1] + b[0]/a4[1])\n",
    "\n",
    "\n",
    "# plot the solution\n",
    "plot( center_val[0] + radius.value*cos(theta), center_val[1] + radius.value*sin(theta) )\n",
    "plot( center_val[0], center_val[1], 'x', markersize=10 )\n",
    "\n",
    "# label\n",
    "title('Chebyshev Centering')\n",
    "xlabel('x1')\n",
    "ylabel('x2')\n",
    "\n",
    "axis([-1, 1, -1, 1])\n",
    "\n",
    "show()"
   ]
  }
 ],
 "metadata": {
  "kernelspec": {
   "display_name": "Python 3",
   "language": "python",
   "name": "python3"
  },
  "language_info": {
   "codemirror_mode": {
    "name": "ipython",
    "version": 3
   },
   "file_extension": ".py",
   "mimetype": "text/x-python",
   "name": "python",
   "nbconvert_exporter": "python",
   "pygments_lexer": "ipython3",
   "version": "3.6.9"
  }
 },
 "nbformat": 4,
 "nbformat_minor": 2
}
