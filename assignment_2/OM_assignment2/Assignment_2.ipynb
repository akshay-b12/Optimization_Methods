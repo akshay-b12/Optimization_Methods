{
 "cells": [
  {
   "cell_type": "markdown",
   "metadata": {
    "colab_type": "text",
    "id": "y6unjJywRUwV"
   },
   "source": [
    "# Assignment-2: Manifold Learning\n",
    "\n",
    "The objective of this assignment is to apply the concepts you have learned in class on Manifold Learning and Spectral Clustering. \n",
    "\n",
    "## Instructions\n",
    "  - For each question you need to write the sub-problem formulation in markdown. \n",
    "  - Ensure that this notebook runs without errors when the cells are run in sequence.\n",
    "  - Plagiarism will not be tolerated.\n",
    "  - Use only `python3` to run your code.\n",
    "  - If you are facing issues running the notebook on your local system. Use google collab to run the notebook online. To run the notebook online, go to [google collab](!https://colab.research.google.com/notebooks/intro.ipynb). Go to `File  -> Upload Notebook` and import the notebook file.\n",
    "\n",
    "__NOTE__: If you use online platforms, you will have to upload `swissroll.dat` file separately and change the path in the code cell which loads the data.\n",
    "\n",
    "## Submission  \n",
    "- Rename the notebook to `<roll_number>.ipynb` and submit **ONLY** the notebook file on moodle.\n",
    "\n",
    "## Problems \n",
    " - Question 1: Spectral Clustering (10 marks)\n",
    " - Question 2: Manifold Visualization (10 marks)\n",
    " - Question 3: Clustering and Visualizing high-dimensional data (10 marks)\n",
    " - Question 4: Classification (10 marks)\n",
    "\n",
    "## Deadline \n",
    "The deadline of this assignment is 27th April, 2020, 11:59 PM"
   ]
  },
  {
   "cell_type": "code",
   "execution_count": 13,
   "metadata": {
    "colab": {},
    "colab_type": "code",
    "id": "_3dyamhDXwS1"
   },
   "outputs": [
    {
     "name": "stdout",
     "output_type": "stream",
     "text": [
      "Defaulting to user installation because normal site-packages is not writeable\n",
      "Requirement already satisfied: numpy in /home/akshay/.local/lib/python3.6/site-packages (1.17.2)\n",
      "Processing /home/akshay/.cache/pip/wheels/76/03/bb/589d421d27431bcd2c6da284d5f2286c8e3b2ea3cf1594c074/sklearn-0.0-py2.py3-none-any.whl\n",
      "Collecting tensorflow\n",
      "  Downloading tensorflow-2.1.0-cp36-cp36m-manylinux2010_x86_64.whl (421.8 MB)\n",
      "\u001b[K     |▍                               | 5.8 MB 636 kB/s eta 0:10:54^C\n",
      "\n",
      "\u001b[31mERROR: Operation cancelled by user\u001b[0m\n",
      "\u001b[?25hDefaulting to user installation because normal site-packages is not writeable\n",
      "Collecting matplotlib==3.0.3\n",
      "  Downloading matplotlib-3.0.3-cp36-cp36m-manylinux1_x86_64.whl (13.0 MB)\n",
      "\u001b[K     |██▍                             | 993 kB 131 kB/s eta 0:01:32^C\n",
      "\n",
      "\u001b[31mERROR: Operation cancelled by user\u001b[0m\n",
      "\u001b[?25h"
     ]
    }
   ],
   "source": [
    "import sys\n",
    "# Install packages correctly\n",
    "!{sys.executable} -m pip install numpy sklearn tensorflow keras\n",
    "# Fix mpl version due to subtle API differences\n",
    "!{sys.executable} -m pip install matplotlib==3.0.3\n",
    "\n",
    "import numpy\n",
    "# Allow usage of both `np` and `numpy`\n",
    "np = numpy\n",
    "import sklearn\n",
    "import matplotlib"
   ]
  },
  {
   "cell_type": "markdown",
   "metadata": {
    "colab_type": "text",
    "id": "6pUMAoPIWjRo"
   },
   "source": [
    "# Question 1: Spectral Clustering\n",
    "\n",
    "Implement spectral clustering and evaluate on the given concentric circles dataset for this question."
   ]
  },
  {
   "cell_type": "markdown",
   "metadata": {
    "colab_type": "text",
    "id": "Hn0_iOUFy_w9"
   },
   "source": [
    "## Part 1: Implementation\n",
    "Implement spectral clustering function from scratch (for two clusters), taking as input the dataset. It must return the predicted clustering. Assume that the graph constructed is a fully connected graph. Use the normalized graph laplacian for this case.\n",
    "\n"
   ]
  },
  {
   "cell_type": "code",
   "execution_count": 10,
   "metadata": {
    "colab": {},
    "colab_type": "code",
    "id": "VYajkeo9BVu5"
   },
   "outputs": [],
   "source": [
    "# Part 1: Spectral Clustering\n",
    "\n",
    "from sklearn.neighbors import radius_neighbors_graph\n",
    "from sklearn.neighbors import kneighbors_graph\n",
    "from scipy.sparse import csgraph\n",
    "def spectral_clustering(X):\n",
    "    A = kneighbors_graph(X, 2, mode='connectivity', metric='minkowski', p=2, metric_params=None, include_self=False)\n",
    "    L = csgraph.laplacian(A, normed=True)\n",
    "    eigval, eigvec = np.linalg.eig(L)\n",
    "    y_pred =eigvec[:,1].copy()\n",
    "    y_pred[y_pred < 0] = 0\n",
    "    y_pred[y_pred > 0] = 1\n",
    "    return y_pred\n"
   ]
  },
  {
   "cell_type": "markdown",
   "metadata": {
    "colab_type": "text",
    "id": "D2txlZ8iyA1u"
   },
   "source": [
    "## Part 2: Clustering concentric circles\n",
    "Perform spectral clustering on the concentric circles dataset. Visualize the result by plotting it on a 2-d graph. Use different colours for different clusters."
   ]
  },
  {
   "cell_type": "code",
   "execution_count": 11,
   "metadata": {
    "colab": {},
    "colab_type": "code",
    "id": "EQJkpUzj1vSY"
   },
   "outputs": [],
   "source": [
    "# DO NOT EDIT\n",
    "\n",
    "from sklearn.datasets import make_circles \n",
    "\n",
    "CX, CY = make_circles(n_samples=200, shuffle=True,noise=0.05, random_state=1337, factor=0.5)\n",
    "# CX: input data points [n_samples, 2]\n",
    "# CY: true clusters [n_samples]"
   ]
  },
  {
   "cell_type": "code",
   "execution_count": 12,
   "metadata": {
    "colab": {},
    "colab_type": "code",
    "id": "3PKZWv1GAtKd"
   },
   "outputs": [
    {
     "ename": "NameError",
     "evalue": "name 'np' is not defined",
     "output_type": "error",
     "traceback": [
      "\u001b[0;31m---------------------------------------------------------------------------\u001b[0m",
      "\u001b[0;31mNameError\u001b[0m                                 Traceback (most recent call last)",
      "\u001b[0;32m<ipython-input-12-219e5f1edbfc>\u001b[0m in \u001b[0;36m<module>\u001b[0;34m\u001b[0m\n\u001b[1;32m      2\u001b[0m \u001b[0;31m# Plot using colors from CY (true clusters) and CY_pred (predicted clusters)\u001b[0m\u001b[0;34m\u001b[0m\u001b[0;34m\u001b[0m\u001b[0;34m\u001b[0m\u001b[0m\n\u001b[1;32m      3\u001b[0m \u001b[0;31m# Code in this cell should plot 2 subplots (true labels and predicted labels)\u001b[0m\u001b[0;34m\u001b[0m\u001b[0;34m\u001b[0m\u001b[0;34m\u001b[0m\u001b[0m\n\u001b[0;32m----> 4\u001b[0;31m \u001b[0my_pred\u001b[0m \u001b[0;34m=\u001b[0m \u001b[0mspectral_clustering\u001b[0m\u001b[0;34m(\u001b[0m\u001b[0mCX\u001b[0m\u001b[0;34m)\u001b[0m\u001b[0;34m\u001b[0m\u001b[0;34m\u001b[0m\u001b[0m\n\u001b[0m\u001b[1;32m      5\u001b[0m \u001b[0;34m\u001b[0m\u001b[0m\n\u001b[1;32m      6\u001b[0m \u001b[0mfig\u001b[0m\u001b[0;34m,\u001b[0m \u001b[0max\u001b[0m \u001b[0;34m=\u001b[0m \u001b[0mplt\u001b[0m\u001b[0;34m.\u001b[0m\u001b[0msubplots\u001b[0m\u001b[0;34m(\u001b[0m\u001b[0mfigsize\u001b[0m\u001b[0;34m=\u001b[0m\u001b[0;34m(\u001b[0m\u001b[0;36m9\u001b[0m\u001b[0;34m,\u001b[0m\u001b[0;36m7\u001b[0m\u001b[0;34m)\u001b[0m\u001b[0;34m)\u001b[0m\u001b[0;34m\u001b[0m\u001b[0;34m\u001b[0m\u001b[0m\n",
      "\u001b[0;32m<ipython-input-10-50135457cec9>\u001b[0m in \u001b[0;36mspectral_clustering\u001b[0;34m(X)\u001b[0m\n\u001b[1;32m      7\u001b[0m     \u001b[0mA\u001b[0m \u001b[0;34m=\u001b[0m \u001b[0mkneighbors_graph\u001b[0m\u001b[0;34m(\u001b[0m\u001b[0mX\u001b[0m\u001b[0;34m,\u001b[0m \u001b[0;36m2\u001b[0m\u001b[0;34m,\u001b[0m \u001b[0mmode\u001b[0m\u001b[0;34m=\u001b[0m\u001b[0;34m'connectivity'\u001b[0m\u001b[0;34m,\u001b[0m \u001b[0mmetric\u001b[0m\u001b[0;34m=\u001b[0m\u001b[0;34m'minkowski'\u001b[0m\u001b[0;34m,\u001b[0m \u001b[0mp\u001b[0m\u001b[0;34m=\u001b[0m\u001b[0;36m2\u001b[0m\u001b[0;34m,\u001b[0m \u001b[0mmetric_params\u001b[0m\u001b[0;34m=\u001b[0m\u001b[0;32mNone\u001b[0m\u001b[0;34m,\u001b[0m \u001b[0minclude_self\u001b[0m\u001b[0;34m=\u001b[0m\u001b[0;32mFalse\u001b[0m\u001b[0;34m)\u001b[0m\u001b[0;34m\u001b[0m\u001b[0;34m\u001b[0m\u001b[0m\n\u001b[1;32m      8\u001b[0m     \u001b[0mL\u001b[0m \u001b[0;34m=\u001b[0m \u001b[0mcsgraph\u001b[0m\u001b[0;34m.\u001b[0m\u001b[0mlaplacian\u001b[0m\u001b[0;34m(\u001b[0m\u001b[0mA\u001b[0m\u001b[0;34m,\u001b[0m \u001b[0mnormed\u001b[0m\u001b[0;34m=\u001b[0m\u001b[0;32mTrue\u001b[0m\u001b[0;34m)\u001b[0m\u001b[0;34m\u001b[0m\u001b[0;34m\u001b[0m\u001b[0m\n\u001b[0;32m----> 9\u001b[0;31m     \u001b[0meigval\u001b[0m\u001b[0;34m,\u001b[0m \u001b[0meigvec\u001b[0m \u001b[0;34m=\u001b[0m \u001b[0mnp\u001b[0m\u001b[0;34m.\u001b[0m\u001b[0mlinalg\u001b[0m\u001b[0;34m.\u001b[0m\u001b[0meig\u001b[0m\u001b[0;34m(\u001b[0m\u001b[0mL\u001b[0m\u001b[0;34m)\u001b[0m\u001b[0;34m\u001b[0m\u001b[0;34m\u001b[0m\u001b[0m\n\u001b[0m\u001b[1;32m     10\u001b[0m     \u001b[0my_pred\u001b[0m \u001b[0;34m=\u001b[0m\u001b[0meigvec\u001b[0m\u001b[0;34m[\u001b[0m\u001b[0;34m:\u001b[0m\u001b[0;34m,\u001b[0m\u001b[0;36m1\u001b[0m\u001b[0;34m]\u001b[0m\u001b[0;34m.\u001b[0m\u001b[0mcopy\u001b[0m\u001b[0;34m(\u001b[0m\u001b[0;34m)\u001b[0m\u001b[0;34m\u001b[0m\u001b[0;34m\u001b[0m\u001b[0m\n\u001b[1;32m     11\u001b[0m     \u001b[0my_pred\u001b[0m\u001b[0;34m[\u001b[0m\u001b[0my_pred\u001b[0m \u001b[0;34m<\u001b[0m \u001b[0;36m0\u001b[0m\u001b[0;34m]\u001b[0m \u001b[0;34m=\u001b[0m \u001b[0;36m0\u001b[0m\u001b[0;34m\u001b[0m\u001b[0;34m\u001b[0m\u001b[0m\n",
      "\u001b[0;31mNameError\u001b[0m: name 'np' is not defined"
     ]
    }
   ],
   "source": [
    "# Part 2: Perform Spectral Clustering on the concentric circles dataset\n",
    "# Plot using colors from CY (true clusters) and CY_pred (predicted clusters)\n",
    "# Code in this cell should plot 2 subplots (true labels and predicted labels)\n",
    "y_pred = spectral_clustering(CX)\n",
    "\n",
    "fig, ax = plt.subplots(figsize=(9,7))\n",
    "ax.set_title('Data with ground truth labels - linear separation not possible', fontsize=18, fontweight='demi')\n",
    "ax.scatter(X_mn[:, 0], X_mn[:, 1],c=y_spec ,s=dot_size, cmap=cmap)"
   ]
  },
  {
   "cell_type": "markdown",
   "metadata": {
    "colab_type": "text",
    "id": "Y3Cy2CylyBpg"
   },
   "source": [
    "## Part 3: Evaluate accuracy\n",
    "Evaluate the accuracy of the clustering by comparing it with the true labels. Create two subplots (true vs predicted) with the color of each point showing the cluster label."
   ]
  },
  {
   "cell_type": "code",
   "execution_count": 0,
   "metadata": {
    "colab": {},
    "colab_type": "code",
    "id": "-6GkKuI0BRrz"
   },
   "outputs": [],
   "source": [
    "# Part 3: Report the accuracy of clustering\n"
   ]
  },
  {
   "cell_type": "markdown",
   "metadata": {
    "colab_type": "text",
    "id": "9rzTpNVdz4gh"
   },
   "source": [
    "\n",
    "\n",
    "---\n",
    "\n"
   ]
  },
  {
   "cell_type": "markdown",
   "metadata": {
    "colab_type": "text",
    "id": "ET2wS62DY8q4"
   },
   "source": [
    "# Question 2: Manifold Visualization\n",
    "Implement the various manifold learning methods and visualize the given datasets.\n"
   ]
  },
  {
   "cell_type": "markdown",
   "metadata": {
    "colab_type": "text",
    "id": "TlLNBbeL0Udf"
   },
   "source": [
    "## Part 1: MDS\n",
    "Implement Multi-Dimensional Scaling"
   ]
  },
  {
   "cell_type": "code",
   "execution_count": 0,
   "metadata": {
    "colab": {},
    "colab_type": "code",
    "id": "1yYCJ3CPCJi_"
   },
   "outputs": [],
   "source": [
    "# Part 1: MDS\n",
    "\n",
    "def MDS(X, k, output_dim=2):\n",
    "  \"\"\"Args:\n",
    "    X: numpy.array [n_samples, input_dim]\n",
    "    k: number of nearest neighbours to construct the knn graph\n",
    "    output_dim: dimension of output data\n",
    "\n",
    "    Returns:\n",
    "    Y: numpy.array [n_samples, output_dim]\n",
    "  \"\"\"\n",
    "  # Your code here\n",
    "  return Y"
   ]
  },
  {
   "cell_type": "markdown",
   "metadata": {
    "colab_type": "text",
    "id": "GqAs0Fv4xKJm"
   },
   "source": [
    "## Part 2: LLE\n",
    "Implement Locally Linear Embedding function"
   ]
  },
  {
   "cell_type": "code",
   "execution_count": 0,
   "metadata": {
    "colab": {},
    "colab_type": "code",
    "id": "7XJTWUKUCKDK"
   },
   "outputs": [],
   "source": [
    "# Part 2: LLE\n",
    "\n",
    "def LLE(X, k, output_dim=2):\n",
    "  \"\"\"Args:\n",
    "    X: numpy.array [n_samples, input_dim]\n",
    "    k: number of nearest neighbours to construct the knn graph\n",
    "    output_dim: dimension of output data\n",
    "\n",
    "    Returns:\n",
    "    Y: numpy.array [n_samples, output_dim]\n",
    "  \"\"\"\n",
    "  # Your code here\n",
    "  return Y"
   ]
  },
  {
   "cell_type": "markdown",
   "metadata": {
    "colab_type": "text",
    "id": "9DbKZQJUxb6D"
   },
   "source": [
    "## Part 3: ISOMAP\n",
    "Implement Isomap Visualization  "
   ]
  },
  {
   "cell_type": "code",
   "execution_count": 0,
   "metadata": {
    "colab": {},
    "colab_type": "code",
    "id": "lfHexz4FCKSD"
   },
   "outputs": [],
   "source": [
    "# Part 3: Isomap\n",
    "\n",
    "def ISOMAP(X, k, output_dim=2):\n",
    "  \"\"\"Args:\n",
    "    X: numpy.array [n_samples, input_dim]\n",
    "    k: number of nearest neighbours to construct the knn graph\n",
    "    output_dim: dimension of output data\n",
    "\n",
    "    Returns:\n",
    "    Y: numpy.array [n_samples, output_dim]\n",
    "  \"\"\"\n",
    "  # Your code here\n",
    "  return Y"
   ]
  },
  {
   "cell_type": "markdown",
   "metadata": {
    "colab_type": "text",
    "id": "HpqHCxJoxg1q"
   },
   "source": [
    "## Part 3: Manifold Visualization\n",
    "Visualize the S-shaped 3-d dataset using the MDS, ISOMAP, LLE"
   ]
  },
  {
   "cell_type": "code",
   "execution_count": 0,
   "metadata": {
    "colab": {},
    "colab_type": "code",
    "id": "i-vs3a9mCKri"
   },
   "outputs": [],
   "source": [
    "# DO NOT EDIT\n",
    "\n",
    "from sklearn import manifold, datasets\n",
    "\n",
    "SX, St = datasets.make_s_curve(n_samples=1000, random_state=1337)\n",
    "# SX: input data [n_samples, 3]\n",
    "# St: univariate position along manifold [n_samples], use for coloring the plots"
   ]
  },
  {
   "cell_type": "markdown",
   "metadata": {
    "colab_type": "text",
    "id": "bLfG6fon3Ng8"
   },
   "source": [
    "The code in the next cell should draw a single plot with the following subplots:\n",
    "1. 3D S-shaped dataset\n",
    "2. 2D Manifold learnt using MDS\n",
    "3. 2D Manifold learnt using ISOMAP\n",
    "4. 2D Manifold learnt using LLE\n",
    "\n",
    "Use the `St` variable to color the points in your visualizations. Use a color spectrum, and the position along the manifold to assign the color."
   ]
  },
  {
   "cell_type": "code",
   "execution_count": 0,
   "metadata": {
    "colab": {},
    "colab_type": "code",
    "id": "Syy5E92H3rQt"
   },
   "outputs": [],
   "source": [
    "#  Visualization code here"
   ]
  },
  {
   "cell_type": "markdown",
   "metadata": {
    "colab_type": "text",
    "id": "0_6qKBLLBp3y"
   },
   "source": [
    "\n",
    "# Question 3: Clustering and Visualizing high-dimensional data\n",
    "Perform k-means and spectral clustering on the Swiss roll dataset and visualize using the above 3 methods. State your observations."
   ]
  },
  {
   "cell_type": "code",
   "execution_count": 0,
   "metadata": {
    "colab": {
     "base_uri": "https://localhost:8080/",
     "height": 35
    },
    "colab_type": "code",
    "id": "urWObhY9XT1i",
    "outputId": "71469e60-f7c5-4840-ce91-5a6dc13209e6"
   },
   "outputs": [
    {
     "name": "stdout",
     "output_type": "stream",
     "text": [
      "(1600, 3)\n"
     ]
    }
   ],
   "source": [
    "# Swiss roll dataset loading here\n",
    "d = []\n",
    "with open('./swissroll.dat', 'r') as dat_file:\n",
    "    for line in dat_file:\n",
    "        line = line.strip().split()\n",
    "        line = [float(x.strip()) for x in line]\n",
    "        d.append(line)\n",
    "swissroll = numpy.array(d)\n",
    "print (swissroll.shape)"
   ]
  },
  {
   "cell_type": "markdown",
   "metadata": {
    "colab_type": "text",
    "id": "OYXwW4hK36Uq"
   },
   "source": [
    "Procedure for this question:\n",
    "1. Perform spectral clustering (2 clusters) on the unchanged Swiss roll and visualize (binary colors)\n",
    "2. Unwrap the manifold in 2D and visualize using\n",
    "  - MDS\n",
    "  - ISOMAP\n",
    "  - LLE\n",
    "\n",
    "Use the labels from the spectral clustering to color the unwrapped manifolds."
   ]
  },
  {
   "cell_type": "code",
   "execution_count": 0,
   "metadata": {
    "colab": {},
    "colab_type": "code",
    "id": "IGNWHRBm6UqA"
   },
   "outputs": [],
   "source": [
    "# CODE HERE"
   ]
  },
  {
   "cell_type": "markdown",
   "metadata": {
    "colab_type": "text",
    "id": "Htk5iQVF5y0m"
   },
   "source": [
    "\n",
    "\n",
    "---\n",
    "\n"
   ]
  },
  {
   "cell_type": "markdown",
   "metadata": {
    "colab_type": "text",
    "id": "N_zlw_qEdMor"
   },
   "source": [
    "# Question 4: Classification"
   ]
  },
  {
   "cell_type": "markdown",
   "metadata": {
    "colab_type": "text",
    "id": "x_U7mXf-dsSr"
   },
   "source": [
    "Perform classification using a machine learning algorithm of your choice. Use 6k images from CIFAR-10 dataset.(5k images for training and 1k images for testing.)\n",
    "\n",
    "\n",
    "*   Do dimensionality reduction on the dataset using PCA and ISOMAP.\n",
    "*   Apply the classification algorithm.\n",
    "*   Compare the results by changing the dimensionality of the data.\n",
    "*   Use F1-score as metric.\n",
    "*   Approach: Reduce the dimensionality into any two dimensions(of your choice) which are less than the initial dimensionality of the data using PCA and ISOMAP. Compare the performance metrics(F1-score) for the low dimensional data.\n",
    "\n"
   ]
  },
  {
   "cell_type": "code",
   "execution_count": 0,
   "metadata": {
    "colab": {},
    "colab_type": "code",
    "id": "fisyOiUim4KQ"
   },
   "outputs": [],
   "source": [
    "# Code for loading CIFAR-10 dataset.\n",
    "from keras.datasets import cifar10\n",
    "(X_train, y_train), (X_test, y_test) = cifar10.load_data()\n",
    "X_train = X_train[:5000].reshape([5000,32*32*3])\n",
    "y_train = y_train[:5000]\n",
    "X_test = X_test[:1000].reshape([1000,32*32*3])\n",
    "y_test = y_test[:1000]\n",
    "# Initial dimensionality/number of features (32*32*3) = 3072."
   ]
  },
  {
   "cell_type": "code",
   "execution_count": 0,
   "metadata": {
    "colab": {},
    "colab_type": "code",
    "id": "bncBE604dreD"
   },
   "outputs": [],
   "source": [
    "def reductionUsingPCA(X, k, output_dim):\n",
    "  \"\"\"Args:\n",
    "    X: numpy.array [n_samples, input_dim]\n",
    "    k: number of nearest neighbours to construct the knn graph\n",
    "    output_dim: dimension of output data\n",
    "\n",
    "    Returns:\n",
    "    pca_X: numpy.array [n_samples, output_dim]\n",
    "  \"\"\"\n",
    "  # Enter your code here\n",
    "  return pca_X"
   ]
  },
  {
   "cell_type": "code",
   "execution_count": 0,
   "metadata": {
    "colab": {},
    "colab_type": "code",
    "id": "DfzjqHhhXn1Z"
   },
   "outputs": [],
   "source": [
    "def reductionUsingISOMAP(X, k, output_dim):\n",
    "  \"\"\"Args:\n",
    "    X: numpy.array [n_samples, input_dim]\n",
    "    k: number of nearest neighbours to construct the knn graph\n",
    "    output_dim: dimension of output data\n",
    "\n",
    "    Returns:\n",
    "    isomap_X: numpy.array [n_samples, output_dim]\n",
    "  \"\"\"\n",
    "  # Enter your code here\n",
    "  return isomap_X"
   ]
  },
  {
   "cell_type": "code",
   "execution_count": 0,
   "metadata": {
    "colab": {},
    "colab_type": "code",
    "id": "jFmq8lOIm8p0"
   },
   "outputs": [],
   "source": [
    "# Classification Algorithm \n",
    "# Extra functions here\n",
    "\n",
    "def classification(X, n_classes):\n",
    "  \"\"\"Args:\n",
    "    X: numpy.array [n_samples, input_dim]\n",
    "    n_classes: number of classes\n",
    "\n",
    "    Returns:\n",
    "    labels: numpy_array [n_samples]\n",
    "  \"\"\"\n",
    "  # Your code here\n",
    "  return labels\n"
   ]
  },
  {
   "cell_type": "code",
   "execution_count": 0,
   "metadata": {
    "colab": {},
    "colab_type": "code",
    "id": "dPB5KCGJnZx_"
   },
   "outputs": [],
   "source": [
    "def F1_score(y_true, y_pred):\n",
    "  \"\"\"Args:\n",
    "    y_true: numpy.array [n_samples] , ground truth value\n",
    "    y_pred: numpy.array [n_samples] , predicted value by classifier\n",
    "    \n",
    "    Returns:\n",
    "    score: float, f1-score\n",
    "  \"\"\"\n",
    "  # Enter your code here\n",
    "  return score"
   ]
  },
  {
   "cell_type": "code",
   "execution_count": 0,
   "metadata": {
    "colab": {},
    "colab_type": "code",
    "id": "erTYJiPGpCwO"
   },
   "outputs": [],
   "source": []
  }
 ],
 "metadata": {
  "colab": {
   "collapsed_sections": [],
   "name": "Assignment 2",
   "provenance": [],
   "toc_visible": true
  },
  "kernelspec": {
   "display_name": "Python 3",
   "language": "python",
   "name": "python3"
  },
  "language_info": {
   "codemirror_mode": {
    "name": "ipython",
    "version": 3
   },
   "file_extension": ".py",
   "mimetype": "text/x-python",
   "name": "python",
   "nbconvert_exporter": "python",
   "pygments_lexer": "ipython3",
   "version": "3.6.9"
  }
 },
 "nbformat": 4,
 "nbformat_minor": 1
}
